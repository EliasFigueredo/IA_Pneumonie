{
 "cells": [
  {
   "cell_type": "code",
   "execution_count": 1,
   "id": "c34a258a-951a-43d0-a2f1-18f66bcf1ea2",
   "metadata": {},
   "outputs": [],
   "source": [
    "from keras.models import load_model\n",
    "from keras.preprocessing import image\n",
    "from keras.applications.vgg16 import preprocess_input\n",
    "import numpy as np"
   ]
  },
  {
   "cell_type": "code",
   "execution_count": 2,
   "id": "3aff54e0-64a4-4ca9-a67c-12b81e93c470",
   "metadata": {},
   "outputs": [],
   "source": [
    "model=load_model('chest_xray.h5')"
   ]
  },
  {
   "cell_type": "code",
   "execution_count": 3,
   "id": "86abf6cc-3dd7-420a-b793-cc17899c63fd",
   "metadata": {},
   "outputs": [],
   "source": [
    "# pip install pillow\n",
    "from PIL import Image"
   ]
  },
  {
   "cell_type": "code",
   "execution_count": 27,
   "id": "bc14ca9e-b865-4053-9e94-ed3e26929f72",
   "metadata": {},
   "outputs": [],
   "source": [
    "import streamlit as st\n",
    "#from utils import *\n",
    "\n",
    "# Características básicas de la página\n",
    "st.set_page_config(page_icon=\"📊\", page_title=\"Detección de anomalías cardiacas\", layout=\"wide\")\n",
    "st.image(\"https://www.codificandobits.com/img/cb-logo.png\", width=200)\n",
    "st.title(\"Detección de anomalías cardiacas con autoencoders\")\n",
    "\n",
    "c29, c30, c31 = st.columns([1, 6, 1]) # 3 columnas: 10%, 60%, 10%\n",
    "\n",
    "# UMBRAL = 0.089\n",
    "\n",
    "# from PIL import Image\n",
    "# import streamlit as st\n",
    "from tensorflow.keras.preprocessing import image as image_utils\n",
    "\n",
    "with c30:\n",
    "    uploaded_file = st.file_uploader(\n",
    "        \"Choisissez une image (JPG, JPEG, PNG)\",\n",
    "        type=['jpg', 'jpeg', 'png'],\n",
    "        key=\"1\",\n",
    "    )\n",
    "\n",
    "    if uploaded_file is not None:\n",
    "        # Ouvrir l'image avec la bibliothèque Pillow\n",
    "        image = Image.open(uploaded_file)\n",
    "        # Redimensionner l'image à la taille cible\n",
    "        image_resized = image.resize((224, 224))\n",
    "        st.image(image_resized, caption=\"Image téléchargée\", use_column_width=True)\n",
    "        \n",
    "        # Afficher le message d'information\n",
    "        info_box_wait = st.info(\"Realizando la clasificación...\")\n",
    "\n",
    "        # Convertir l'image redimensionnée en tableau numpy\n",
    "        x = image_utils.img_to_array(image_resized)\n",
    "        x=np.expand_dims(x, axis =0)\n",
    "        img_data=preprocess_input(x)\n",
    "        classes=model.predict(img_data)\n",
    "        result=int(classes[0][0])\n",
    "        \n",
    "        if result==0:\n",
    "            print(\"Person is Affected By PNEUMONIA\")\n",
    "        else:\n",
    "            print(\"Result is Normal\")\n",
    "\n",
    "        \n",
    "\n",
    "# Affichage de l'image téléchargée\n",
    "# if uploaded_file is not None:\n",
    "#     # Ouvrir l'image avec la bibliothèque Pillow\n",
    "#     image = Image.open(uploaded_file)\n",
    "    \n",
    "#     # Afficher l'image avec Streamlit\n",
    "#     st.image(image, caption=\"Image téléchargée\", use_column_width=True)\n",
    "\n"
   ]
  },
  {
   "cell_type": "code",
   "execution_count": 28,
   "id": "77d426d3-196f-402f-a73e-2362e7f1410c",
   "metadata": {},
   "outputs": [],
   "source": [
    "# x=np.expand_dims(x, axis=0)"
   ]
  },
  {
   "cell_type": "code",
   "execution_count": null,
   "id": "17fa9988-aeee-4ca7-9607-58aae132d473",
   "metadata": {},
   "outputs": [],
   "source": [
    "# img_data=preprocess_input(x)"
   ]
  },
  {
   "cell_type": "code",
   "execution_count": null,
   "id": "1565822a-0973-490b-94a9-32003f09de4a",
   "metadata": {},
   "outputs": [],
   "source": [
    "# classes=model.predict(img_data)"
   ]
  },
  {
   "cell_type": "code",
   "execution_count": null,
   "id": "0c98267c-f709-4848-9997-7d71e93ae0db",
   "metadata": {},
   "outputs": [],
   "source": [
    "# result=int(classes[0][0])"
   ]
  },
  {
   "cell_type": "code",
   "execution_count": null,
   "id": "3195797e-3639-4909-a178-e385b08cca4b",
   "metadata": {},
   "outputs": [],
   "source": [
    "# if result==0:\n",
    "#     print(\"Person is Affected By PNEUMONIA\")\n",
    "# else:\n",
    "#     print(\"Result is Normal\")"
   ]
  },
  {
   "cell_type": "code",
   "execution_count": null,
   "id": "590d461c-e841-4b43-a2d4-b01dd2be14e2",
   "metadata": {},
   "outputs": [],
   "source": [
    "# print(result)"
   ]
  }
 ],
 "metadata": {
  "kernelspec": {
   "display_name": "Python 3 (ipykernel)",
   "language": "python",
   "name": "python3"
  },
  "language_info": {
   "codemirror_mode": {
    "name": "ipython",
    "version": 3
   },
   "file_extension": ".py",
   "mimetype": "text/x-python",
   "name": "python",
   "nbconvert_exporter": "python",
   "pygments_lexer": "ipython3",
   "version": "3.9.13"
  }
 },
 "nbformat": 4,
 "nbformat_minor": 5
}
